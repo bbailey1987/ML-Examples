{
 "cells": [
  {
   "cell_type": "markdown",
   "metadata": {
    "slideshow": {
     "slide_type": "slide"
    }
   },
   "source": [
    "# Intro to TensorFlow\n",
    "\n",
    "This notebook covers the basics of TF and creates an animation with gradient descent trajectory.\n",
    "<img src=\"images/gradient_descent.png\" style=\"width:50%\">"
   ]
  },
  {
   "cell_type": "markdown",
   "metadata": {},
   "source": [
    "# TensorBoard"
   ]
  },
  {
   "cell_type": "markdown",
   "metadata": {},
   "source": [
    "Run `tensorboard --logdir=./tensorboard_logs --port=7007` in bash.\n",
    "\n",
    "If you run the notebook locally, you should be able to access TensorBoard on http://127.0.0.1:7007/"
   ]
  },
  {
   "cell_type": "code",
   "execution_count": 5,
   "metadata": {},
   "outputs": [
    {
     "name": "stdout",
     "output_type": "stream",
     "text": [
      "We're using TF 1.2.1\n"
     ]
    }
   ],
   "source": [
    "import tensorflow as tf\n",
    "import sys\n",
    "sys.path.append(\"../..\")\n",
    "from keras_utils import reset_tf_session\n",
    "s = reset_tf_session()\n",
    "print(\"We're using TF\", tf.__version__)"
   ]
  },
  {
   "cell_type": "markdown",
   "metadata": {},
   "source": [
    "# Python vs. TF\n",
    "Python function that computes the sum of squares of numbers from 0 to N-1."
   ]
  },
  {
   "cell_type": "code",
   "execution_count": 6,
   "metadata": {},
   "outputs": [],
   "source": [
    "import numpy as np\n",
    "\n",
    "def sum_python(N):\n",
    "    return np.sum(np.arange(N)**2)"
   ]
  },
  {
   "cell_type": "code",
   "execution_count": 7,
   "metadata": {},
   "outputs": [
    {
     "name": "stdout",
     "output_type": "stream",
     "text": [
      "CPU times: user 10 ms, sys: 0 ns, total: 10 ms\n",
      "Wall time: 1.35 ms\n"
     ]
    },
    {
     "data": {
      "text/plain": [
       "333328333350000"
      ]
     },
     "execution_count": 7,
     "metadata": {},
     "output_type": "execute_result"
    }
   ],
   "source": [
    "%%time\n",
    "sum_python(10**5)"
   ]
  },
  {
   "cell_type": "markdown",
   "metadata": {},
   "source": [
    "# TensorFlow\n",
    "\n",
    "Computing the same sum using TF..."
   ]
  },
  {
   "cell_type": "code",
   "execution_count": 8,
   "metadata": {},
   "outputs": [],
   "source": [
    "# An integer parameter\n",
    "N = tf.placeholder('int64', name=\"input_to_your_function\")\n",
    "\n",
    "# A recipe on how to produce the same result\n",
    "result = tf.reduce_sum(tf.range(N)**2)"
   ]
  },
  {
   "cell_type": "code",
   "execution_count": 9,
   "metadata": {},
   "outputs": [
    {
     "data": {
      "text/plain": [
       "<tf.Tensor 'Sum:0' shape=() dtype=int64>"
      ]
     },
     "execution_count": 9,
     "metadata": {},
     "output_type": "execute_result"
    }
   ],
   "source": [
    "# just a graph definition\n",
    "result"
   ]
  },
  {
   "cell_type": "code",
   "execution_count": 10,
   "metadata": {},
   "outputs": [
    {
     "name": "stdout",
     "output_type": "stream",
     "text": [
      "CPU times: user 0 ns, sys: 0 ns, total: 0 ns\n",
      "Wall time: 3.54 ms\n"
     ]
    },
    {
     "data": {
      "text/plain": [
       "333328333350000"
      ]
     },
     "execution_count": 10,
     "metadata": {},
     "output_type": "execute_result"
    }
   ],
   "source": [
    "%%time\n",
    "# actually executing\n",
    "result.eval({N: 10**5})"
   ]
  },
  {
   "cell_type": "code",
   "execution_count": 11,
   "metadata": {},
   "outputs": [],
   "source": [
    "# logger for tensorboard\n",
    "writer = tf.summary.FileWriter(\"tensorboard_logs\", graph=s.graph)"
   ]
  },
  {
   "cell_type": "markdown",
   "metadata": {},
   "source": [
    "# How does it work?\n",
    "1. Define placeholders where we'll send inputs\n",
    "2. Make a symbolic graph: a recipe for mathematical transformation of those placeholders\n",
    "3. Compute outputs of our graph with particular values for each placeholder\n",
    "  * `output.eval({placeholder: value})`\n",
    "  * `s.run(output, {placeholder: value})`\n",
    "\n",
    "So far there are two main entities: \"placeholder\" and \"transformation\" (operation output)\n",
    "* Both can be numbers, vectors, matrices, tensors, etc.\n",
    "* Both can be int32/64, floats, booleans (uint8) of various size.\n",
    "\n",
    "* You can define new transformations as an arbitrary operation on placeholders and other transformations\n",
    " * `tf.reduce_sum(tf.arange(N)**2)` are 3 sequential transformations of placeholder `N`\n",
    " * There's a tensorflow symbolic version for every numpy function\n",
    "   * `a+b, a/b, a**b, ...` behave just like in numpy\n",
    "   * `np.mean` -> `tf.reduce_mean`\n",
    "   * `np.arange` -> `tf.range`\n",
    "   * `np.cumsum` -> `tf.cumsum`\n",
    "   * If you can't find the operation you need, see the [docs](https://www.tensorflow.org/versions/r1.3/api_docs/python).\n",
    "   \n",
    "`tf.contrib` has many high-level features, may be worth a look."
   ]
  },
  {
   "cell_type": "code",
   "execution_count": 12,
   "metadata": {},
   "outputs": [],
   "source": [
    "with tf.name_scope(\"Placeholders_examples\"):\n",
    "    # Default placeholder that can be arbitrary float32\n",
    "    # scalar, vertor, matrix, etc.\n",
    "    arbitrary_input = tf.placeholder('float32')\n",
    "\n",
    "    # Input vector of arbitrary length\n",
    "    input_vector = tf.placeholder('float32', shape=(None,))\n",
    "\n",
    "    # Input vector that _must_ have 10 elements and integer type\n",
    "    fixed_vector = tf.placeholder('int32', shape=(10,))\n",
    "\n",
    "    # Matrix of arbitrary n_rows and 15 columns\n",
    "    # (e.g. a minibatch of our data table)\n",
    "    input_matrix = tf.placeholder('float32', shape=(None, 15))\n",
    "    \n",
    "    # You can generally use None whenever you don't need a specific shape\n",
    "    input1 = tf.placeholder('float64', shape=(None, 100, None))\n",
    "    input2 = tf.placeholder('int32', shape=(None, None, 3, 224, 224))\n",
    "\n",
    "    # elementwise multiplication\n",
    "    double_the_vector = input_vector*2\n",
    "\n",
    "    # elementwise cosine\n",
    "    elementwise_cosine = tf.cos(input_vector)\n",
    "\n",
    "    # difference between squared vector and vector itself plus one\n",
    "    vector_squares = input_vector**2 - input_vector + 1"
   ]
  },
  {
   "cell_type": "code",
   "execution_count": 13,
   "metadata": {},
   "outputs": [],
   "source": [
    "my_vector =  tf.placeholder('float32', shape=(None,), name=\"VECTOR_1\")\n",
    "my_vector2 = tf.placeholder('float32', shape=(None,))\n",
    "my_transformation = my_vector * my_vector2 / (tf.sin(my_vector) + 1)"
   ]
  },
  {
   "cell_type": "code",
   "execution_count": 14,
   "metadata": {},
   "outputs": [
    {
     "name": "stdout",
     "output_type": "stream",
     "text": [
      "Tensor(\"truediv:0\", shape=(?,), dtype=float32)\n"
     ]
    }
   ],
   "source": [
    "print(my_transformation)"
   ]
  },
  {
   "cell_type": "code",
   "execution_count": 15,
   "metadata": {},
   "outputs": [
    {
     "name": "stdout",
     "output_type": "stream",
     "text": [
      "[ 0.  1.  2.  3.  4.]\n"
     ]
    },
    {
     "data": {
      "text/plain": [
       "array([ 0.        ,  1.62913239,  2.09501147,  2.62899613,  0.        ], dtype=float32)"
      ]
     },
     "execution_count": 15,
     "metadata": {},
     "output_type": "execute_result"
    }
   ],
   "source": [
    "dummy = np.arange(5).astype('float32')\n",
    "print(dummy)\n",
    "my_transformation.eval({my_vector: dummy, my_vector2: dummy[::-1]})"
   ]
  },
  {
   "cell_type": "code",
   "execution_count": 16,
   "metadata": {},
   "outputs": [],
   "source": [
    "writer.add_graph(my_transformation.graph)\n",
    "writer.flush()"
   ]
  },
  {
   "cell_type": "markdown",
   "metadata": {},
   "source": [
    "TensorBoard allows writing scalars, images, audio, histogram. Read more on tensorboard usage [here](https://www.tensorflow.org/get_started/graph_viz)."
   ]
  },
  {
   "cell_type": "markdown",
   "metadata": {},
   "source": [
    "# Summary\n",
    "* Tensorflow is based on computation graphs\n",
    "* A graph consists of placeholders and transformations"
   ]
  },
  {
   "cell_type": "markdown",
   "metadata": {},
   "source": [
    "# Loss function: Mean Squared Error\n",
    "\n",
    "Loss function must be a part of the graph as well, so that we can do backpropagation."
   ]
  },
  {
   "cell_type": "code",
   "execution_count": 17,
   "metadata": {},
   "outputs": [],
   "source": [
    "with tf.name_scope(\"MSE\"):\n",
    "    y_true = tf.placeholder(\"float32\", shape=(None,), name=\"y_true\")\n",
    "    y_predicted = tf.placeholder(\"float32\", shape=(None,), name=\"y_predicted\")\n",
    "    # TODO: Implement MSE(y_true, y_predicted), use tf.reduce_mean(...)\n",
    "    mse = tf.reduce_mean(tf.squared_difference(y_predicted, y_true))\n",
    "\n",
    "def compute_mse(vector1, vector2):\n",
    "    return mse.eval({y_true: vector1, y_predicted: vector2})"
   ]
  },
  {
   "cell_type": "code",
   "execution_count": 18,
   "metadata": {},
   "outputs": [],
   "source": [
    "writer.add_graph(mse.graph)\n",
    "writer.flush()"
   ]
  },
  {
   "cell_type": "code",
   "execution_count": 19,
   "metadata": {},
   "outputs": [],
   "source": [
    "# Rigorous local testing of MSE implementation\n",
    "import sklearn.metrics\n",
    "for n in [1, 5, 10, 10**3]:\n",
    "    elems = [np.arange(n), np.arange(n, 0, -1), np.zeros(n),\n",
    "             np.ones(n), np.random.random(n), np.random.randint(100, size=n)]\n",
    "    for el in elems:\n",
    "        for el_2 in elems:\n",
    "            true_mse = np.array(sklearn.metrics.mean_squared_error(el, el_2))\n",
    "            my_mse = compute_mse(el, el_2)\n",
    "            if not np.allclose(true_mse, my_mse):\n",
    "                print('mse(%s,%s)' % (el, el_2))\n",
    "                print(\"should be: %f, but your function returned %f\" % (true_mse, my_mse))\n",
    "                raise ValueError('Wrong result')"
   ]
  },
  {
   "cell_type": "markdown",
   "metadata": {},
   "source": [
    "# Variables\n",
    "\n",
    "Placeholder and transformation values are not stored in the graph once the execution is finished. This isn't very convenient if you want your model to have parameters (e.g. network weights) that are always present, but can change their value over time.\n",
    "\n",
    "Tensorflow solves this with `tf.Variable` objects.\n",
    "* You can assign variable a value at any time in your graph\n",
    "* Unlike placeholders, there's no need to explicitly pass values to variables when `s.run(...)`-ing\n",
    "* You can use variables the same way you use transformations \n",
    " "
   ]
  },
  {
   "cell_type": "code",
   "execution_count": 20,
   "metadata": {},
   "outputs": [],
   "source": [
    "# Creating a shared variable\n",
    "shared_vector_1 = tf.Variable(initial_value=np.ones(5),\n",
    "                              name=\"example_variable\")"
   ]
  },
  {
   "cell_type": "code",
   "execution_count": 21,
   "metadata": {},
   "outputs": [
    {
     "name": "stdout",
     "output_type": "stream",
     "text": [
      "Initial value [ 1.  1.  1.  1.  1.]\n"
     ]
    }
   ],
   "source": [
    "# Initialize variable(s) with initial values\n",
    "s.run(tf.global_variables_initializer())\n",
    "\n",
    "# Evaluating the shared variable\n",
    "print(\"Initial value\", s.run(shared_vector_1))"
   ]
  },
  {
   "cell_type": "code",
   "execution_count": 22,
   "metadata": {},
   "outputs": [
    {
     "name": "stdout",
     "output_type": "stream",
     "text": [
      "New value [ 0.  1.  2.  3.  4.]\n"
     ]
    }
   ],
   "source": [
    "# Setting a new value\n",
    "s.run(shared_vector_1.assign(np.arange(5)))\n",
    "\n",
    "# Getting that new value\n",
    "print(\"New value\", s.run(shared_vector_1))"
   ]
  },
  {
   "cell_type": "markdown",
   "metadata": {},
   "source": [
    "# tf.gradients - why graphs matter\n",
    "* Tensorflow can compute derivatives and gradients automatically using the computation graph\n",
    "* True to its name it can manage matrix derivatives\n",
    "* Gradients are computed as a product of elementary derivatives via the chain rule:\n",
    "\n",
    "$$ {\\partial f(g(x)) \\over \\partial x} = {\\partial f(g(x)) \\over \\partial g(x)}\\cdot {\\partial g(x) \\over \\partial x} $$\n",
    "\n",
    "It can get you the derivative of any graph as long as it knows how to differentiate elementary operations"
   ]
  },
  {
   "cell_type": "code",
   "execution_count": 23,
   "metadata": {},
   "outputs": [],
   "source": [
    "my_scalar = tf.placeholder('float32')\n",
    "\n",
    "scalar_squared = my_scalar**2\n",
    "\n",
    "# A derivative of scalar_squared by my_scalar\n",
    "derivative = tf.gradients(scalar_squared, [my_scalar, ])"
   ]
  },
  {
   "cell_type": "code",
   "execution_count": 24,
   "metadata": {},
   "outputs": [
    {
     "data": {
      "text/plain": [
       "[<tf.Tensor 'gradients/pow_1_grad/Reshape:0' shape=<unknown> dtype=float32>]"
      ]
     },
     "execution_count": 24,
     "metadata": {},
     "output_type": "execute_result"
    }
   ],
   "source": [
    "derivative"
   ]
  },
  {
   "cell_type": "code",
   "execution_count": 25,
   "metadata": {},
   "outputs": [
    {
     "data": {
      "image/png": "[encoded data removed]",
      "text/plain": [
       "<matplotlib.figure.Figure at 0x7fdb8ae9ed30>"
      ]
     },
     "metadata": {},
     "output_type": "display_data"
    }
   ],
   "source": [
    "import matplotlib.pyplot as plt\n",
    "%matplotlib inline\n",
    "\n",
    "x = np.linspace(-3, 3)\n",
    "x_squared, x_squared_der = s.run([scalar_squared, derivative[0]],\n",
    "                                 {my_scalar:x})\n",
    "\n",
    "plt.plot(x, x_squared,label=\"$x^2$\")\n",
    "plt.plot(x, x_squared_der, label=r\"$\\frac{dx^2}{dx}$\")\n",
    "plt.legend();"
   ]
  },
  {
   "cell_type": "markdown",
   "metadata": {},
   "source": [
    "# Why automatic differentiation is AMAZING!"
   ]
  },
  {
   "cell_type": "code",
   "execution_count": 26,
   "metadata": {},
   "outputs": [],
   "source": [
    "my_vector = tf.placeholder('float32', [None])\n",
    "# Compute the gradient of the next weird function over my_scalar and my_vector\n",
    "# Warning: Trying to understand the meaning of that function may result in permanent brain damage!\n",
    "weird_psychotic_function = tf.reduce_mean(\n",
    "    (my_vector+my_scalar)**(1+tf.nn.moments(my_vector,[0])[1]) + \n",
    "    1./ tf.atan(my_scalar))/(my_scalar**2 + 1) + 0.01*tf.sin(\n",
    "    2*my_scalar**1.5)*(tf.reduce_sum(my_vector)* my_scalar**2\n",
    "                      )*tf.exp((my_scalar-4)**2)/(\n",
    "    1+tf.exp((my_scalar-4)**2))*(1.-(tf.exp(-(my_scalar-4)**2)\n",
    "                                    )/(1+tf.exp(-(my_scalar-4)**2)))**2\n",
    "\n",
    "# Yet tf handles the derivative effortlessly!\n",
    "der_by_scalar = tf.gradients(weird_psychotic_function, my_scalar)\n",
    "der_by_vector = tf.gradients(weird_psychotic_function, my_vector)"
   ]
  },
  {
   "cell_type": "code",
   "execution_count": 27,
   "metadata": {},
   "outputs": [
    {
     "data": {
      "image/png": "[encoded data removed]",
      "text/plain": [
       "<matplotlib.figure.Figure at 0x7fdb6c827da0>"
      ]
     },
     "metadata": {},
     "output_type": "display_data"
    }
   ],
   "source": [
    "# Plotting the derivative\n",
    "scalar_space = np.linspace(1, 7, 100)\n",
    "\n",
    "y = [s.run(weird_psychotic_function, {my_scalar:x, my_vector:[1, 2, 3]})\n",
    "     for x in scalar_space]\n",
    "\n",
    "plt.plot(scalar_space, y, label='function')\n",
    "\n",
    "y_der_by_scalar = [s.run(der_by_scalar,\n",
    "                         {my_scalar:x, my_vector:[1, 2, 3]})\n",
    "                   for x in scalar_space]\n",
    "\n",
    "plt.plot(scalar_space, y_der_by_scalar, label='derivative')\n",
    "plt.grid()\n",
    "plt.legend();"
   ]
  },
  {
   "cell_type": "markdown",
   "metadata": {},
   "source": [
    "# Almost done - optimizers\n",
    "\n",
    "While you can perform gradient descent by hand with automatic gradients from above, tensorflow also has some optimization methods implemented for us."
   ]
  },
  {
   "cell_type": "code",
   "execution_count": 28,
   "metadata": {},
   "outputs": [],
   "source": [
    "y_guess = tf.Variable(np.zeros(2, dtype='float32'))\n",
    "y_true = tf.range(1, 3, dtype='float32')\n",
    "\n",
    "loss = tf.reduce_mean((y_guess - y_true + 0.5*tf.random_normal([2]))**2) \n",
    "\n",
    "step = tf.train.MomentumOptimizer(0.03, 0.5).minimize(loss, var_list=y_guess)"
   ]
  },
  {
   "cell_type": "markdown",
   "metadata": {},
   "source": [
    "Let's draw a trajectory of a gradient descent in 2D"
   ]
  },
  {
   "cell_type": "code",
   "execution_count": 30,
   "metadata": {},
   "outputs": [
    {
     "data": {
      "image/png": "[encoded data removed]",
      "text/plain": [
       "<matplotlib.figure.Figure at 0x7fdb6e8d4550>"
      ]
     },
     "metadata": {},
     "output_type": "display_data"
    }
   ],
   "source": [
    "from matplotlib import animation, rc\n",
    "import matplotlib_utils\n",
    "from IPython.display import HTML, display_html\n",
    "\n",
    "# nice figure settings\n",
    "fig, ax = plt.subplots()\n",
    "y_true_value = s.run(y_true)\n",
    "level_x = np.arange(0, 2, 0.02)\n",
    "level_y = np.arange(0, 3, 0.02)\n",
    "X, Y = np.meshgrid(level_x, level_y)\n",
    "Z = (X - y_true_value[0])**2 + (Y - y_true_value[1])**2\n",
    "ax.set_xlim(-0.02, 2)\n",
    "ax.set_ylim(-0.02, 3)\n",
    "s.run(tf.global_variables_initializer())\n",
    "ax.scatter(*s.run(y_true), c='red')\n",
    "contour = ax.contour(X, Y, Z, 10)\n",
    "ax.clabel(contour, inline=1, fontsize=10)\n",
    "line, = ax.plot([], [], lw=2)\n",
    "\n",
    "# start animation with empty trajectory\n",
    "def init():\n",
    "    line.set_data([], [])\n",
    "    return (line,)\n",
    "\n",
    "trajectory = [s.run(y_guess)]\n",
    "\n",
    "# one animation step (make one GD step)\n",
    "def animate(i):\n",
    "    s.run(step)\n",
    "    trajectory.append(s.run(y_guess))\n",
    "    line.set_data(*zip(*trajectory))\n",
    "    return (line,)\n",
    "\n",
    "anim = animation.FuncAnimation(fig, animate, init_func=init,\n",
    "                               frames=100, interval=20, blit=True)"
   ]
  },
  {
   "cell_type": "code",
   "execution_count": 31,
   "metadata": {},
   "outputs": [
    {
     "data": {
      "text/html": [
       "<video width=\"432\" height=\"288\" controls autoplay loop>\n",
       "  <source type=\"video/mp4\" src=\"data:video/mp4;base64,AAAAHGZ0eXBNNFYgAAACAGlzb21pc28yYXZjMQAAAAhmcmVlAABLdG1kYXQAAAKuBgX//6rcRem9\n",
       "5tlIt5Ys2CDZI+7veDI2NCAtIGNvcmUgMTQ4IHIyNjQzIDVjNjU3MDQgLSBILjI2NC9NUEVHLTQg\n",
       "QVZDIGNvZGVjIC0gQ29weWxlZnQgMjAwMy0yMDE1IC0gaHR0cDovL3d3dy52aWRlb2xhbi5vcmcv\n",
       "eDI2NC5odG1sIC0gb3B0aW9uczogY2FiYWM9MSByZWY9MyBkZWJsb2NrPTE6MDowIGFuYWx5c2U9\n",
       "MHgzOjB4MTEzIG1lPWhleCBzdWJtZT03IHBzeT0xIHBzeV9yZD0xLjAwOjAuMDAgbWl4ZWRfcmVm\n",
       "PTEgbWVfcmFuZ2U9MTYgY2hyb21hX21lPTEgdHJlbGxpcz0xIDh4OGRjdD0xIGNxbT0wIGRlYWR6\n",
       "b25lPTIxLDExIGZhc3RfcHNraXA9MSBjaHJvbWFfcXBfb2Zmc2V0PS0yIHRocmVhZHM9NiBsb29r\n",
       "YWhlYWRfdGhyZWFkcz0xIHNsaWNlZF90aHJlYWRzPTAgbnI9MCBkZWNpbWF0ZT0xIGludGVybGFj\n",
       "ZWQ9MCBibHVyYXlfY29tcGF0PTAgY29uc3RyYWluZWRfaW50cmE9MCBiZnJhbWVzPTMgYl9weXJh\n",
       "bWlkPTIgYl9hZGFwdD0xIGJfYmlhcz0wIGRpcmVjdD0xIHdlaWdodGI9MSBvcGVuX2dvcD0wIHdl\n",
       "aWdodHA9MiBrZXlpbnQ9MjUwIGtleWludF9taW49MjUgc2NlbmVjdXQ9NDAgaW50cmFfcmVmcmVz\n",
       "aD0wIHJjX2xvb2thaGVhZD00MCByYz1jcmYgbWJ0cmVlPTEgY3JmPTIzLjAgcWNvbXA9MC42MCBx\n",
       "cG1pbj0wIHFwbWF4PTY5IHFwc3RlcD00IGlwX3JhdGlvPTEuNDAgYXE9MToxLjAwAIAAADIbZYiE\n",
       "ADP//vbsvgU1/Z/QlxEsxdpKcD4qpICAdzTAAAADAAB4He8+UME3qAgRXU+O3+/edMJ0DnCMXWPN\n",
       "eZygE92gs3qdzsl1RjH5VUqIbQW4lbEY1EhCwAAAp+d7WlESNH8y4yoHWdjEy3i5zj0iR5r7oD4c\n",
       "evRGf5YZpSE2T/MqtpALqtLPBV7Di/jhpp/BE5Hr5txSfEu67UvppgZwAi2i8q+512MwmU2ndWiZ\n",
       "0/gy29dsLpujNTmKwjGLSMJz2YilEL4r07flZfkmw/NVWvox9hjJ1m9L6gw8Ob76LAgnuCGgc52d\n",
       "Dha90pVUIyCF8fKxNLt4Gbva9jGQsOR1327NyC2X7ON7gecpbjvz3Mtumnet+DhqiiQX2r6+ex3K\n",
       "UIboAKQlLQfGXbSRo+zfPXXlcAq497i8YsYhV4qxiPAJOu7czM80g4LGjbRY6+1qIA4l9hm/SuOm\n",
       "kJhBZIbKIk9WF7RsjjGFOAdS/rNzWx+Oc4WL30dHn9bymJE+/o6VRBxvsG8BcsmPaAMG1vUannqL\n",
       "i6L3pdl3hHgqFTFNhoreScQKNSVCM7qfSh2BWfXn/oAWuSe5NxbT0yu/Rp2N5gIyqPOjHIlspSgq\n",
       "xbess6Djpl8fXHUGJZbdH+ex4aWjROxi/9c7iGaE8uOMOB9wPXwXhicJjay35RBRf9DvLHwOVQDF\n",
       "8F/3WM2et/+aVVjVA4vGmnd2udW7ZM+XwHTxgp9t74x13KyDl5SEbLup2dMZHg1FjkyM7k3RBxuN\n",
       "wcv99vIZF3502Mtj97eqCA6nq+EFKOvwAak1VMmF6l9o9jHoNBbrKkF5kOoxmxsAZWQ6FHZPGqhA\n",
       "xdZhsFrOSfdS91UjOPCYwd9//mdCThpuQK8y9aR4CYWf0SH6PFBje3T+Uppd2gaZueG8EyMJSsDf\n",
       "3zew6EDyNS6CNWV0M6OMzF7htHJaIBdXPtfaFQSRyC9sgHfoMOKstKQHpfrbK0WLXEeyOtczBE+i\n",
       "LbeT/hflOXKnQuBvXTVP4p2DdqqTzZQcg5iy+dQB0sRzfzKMA9tyrtN3NuT8isMNo53GXkDccYu+\n",
       "jNnUEY5F6d4fN4eD9p+SxlYvhUVi3nkosieWiluS3/2IFUnY4kJ5jky0ldhLl7nRhFt8NPzrW+CF\n",
       "4i3g8vVYe2GaZBHog9VQcUyirOnVBxdG1BM51/LOGAGJFflZU7zm2/z4tr+SY7QexJlgcySU4/dy\n",
       "jlANYfN8kC/bEXOlvjNpYxIWQjrgcRnoKNl1SNoHqljPu/BNaZCeH49BAYbJlhIZRIeXdoh7bSQH\n",
       "ryNnUxZWsPd/MUq9Hj6nGa9NB3gZFy8gwR85mVrB9j0dOqXJ4DEKv0rkG+BtnOtiPZg/8o4B8UOU\n",
       "Jt0HR+SxVCIvgeuWBauvS5UlZq0uxbKQFioxdewXSVcedNh8ZoLgT/234NOxIst3FPuPTYQn8Mlh\n",
       "yDOVtiVbEfJHrszn0YAAGJTn1a+VLpS/jUeaLxxnIzaSWY2AUC4CcBegGkrz13SeKcfhz7/HfPEI\n",
       "0OBXCV35mSEBAs526ysd5XeSM8LSvV+TjcMhPppYKtV8eDNMdF7crn1qwVzJm3Jfi09llA/l6cz9\n",
       "UnmfF6WbX6gGvnzoGC06I3qbQepPsoYythH2w/NnyQ6qwBrJxZaszyyBcMpThd1i1k6eXC3SDmsJ\n",
       "W8q2XEtTOFBeBWCKza/vlyt0q8sb+cKNdMNwv2JntO3rK8Jo30osrz1F3U+xHHQzvVqYKmTYujVp\n",
       "12UDMvJmLCa6rTNIt84pOlV75ThwG0q2FRt3I6jf4pVWCtHBAm3AJkiDxHyXzD6pr1u82tiGTR+C\n",
       "L7ZrCc00c8qSY3sidIJEMTrdOFraZPaUfMD5Ay8pK/tgQ4vg1cuHJKhNOCDrLaUEeli72eyYrew6\n",
       "Xx5vL41axaNHcScR4T6h5hvTefgxmyDHPT+LA6LT12eJfBSLS6webJ4e9ATOXcvZ9Y8bc9gV3yE8\n",
       "SReHlboFRUeyeCh4AjgycvnNM64dvUfEZngvZ+iDxPIp+HliuUknhiIQ9/IxdyXBKTZN8aioAOge\n",
       "ID8do/MGFEOtxsELXSWsmk4qZdxCJC9WFuBBjW82uz1Lbz2NqH1kxdI5Uuf/HrYZ03H4BmZR2w0r\n",
       "F/qhXEu+A2MvJjkZH6C+SZg2nH8NlPkddAhAijN41p2Hib/3UIOXef8NA4tPWIUUom9m9rXqQ8H8\n",
       "SrrHaww3deWaQ7NhtaONoDm+J8qAHKu5qatxsrgVFCEPTLzs/5gXZBtL9XzENRrQZnxF8EIoISEi\n",
       "13fmK1fG/KvSN/58QAm5PA+6HXyrIVQ2d2w4c19opOa3qDFYQyXAQQaXnW1Qq21clLFidddW1N7c\n",
       "DhG0RPvIurSHu2szKUcgulr06HA+Pb3tIfM/OlQns7M2Ku6GWxc9vIdt1DQti1w12fzAmeDwPh+n\n",
       "d3A2SDZsoK+6mKC6HTNgjWuN67PAQ9DydQTD8mCLCFQN8GXCEOmq8AEtqJYUWIgmxxxM5bcu8dio\n",
       "2q/UnVfK0ZodmRthMbrz0cxtV053moWAfPqY5c7OEsgyn6auOQGHMhSpZjwwVry2Q3PwAay8V1Db\n",
       "vsMMFwGhpjQV9bq9msejIe877StnHN++XZUAfY49zLFjUoBWRqIzKD21QmFAILJp4IBpglFkPz3S\n",
       "AquXjCHm4TEXi5ecp+w32pJ4vzvkW+Nx6DolPo/hUkanT3k3jxFmivCIQ3D1jm15f+eU7YJ4ivuB\n",
       "0J2twIU7oM6A/DfTsIvy8Gaor08EnVwlY75cwJUEmsNWzwfaSatInR5J9wV4EzZ4XM2kp5tLK1Hy\n",
       "530PzXt9a6sKimdJkYUh3V++HIO/fEextfjhyTq0vmPijgkUIn16ce5iKS4NpvlOyIMb7gjZgza1\n",
       "NfPl4VSwczsYFLDNvpG/Af7fimLtQUFygdWcApzzQ/fBovXNdSdP7p/50sBKFOEW3L36uy98ySMW\n",
       "V7O2MTiYHbSXk3dGEpEQzt4fCCgiwg4Q3dDhvfgtnkxtOhYkU4XjQgCQJuH8yRw5beEsjLd0c/La\n",
       "HKz+IZaepYAApzfq8YLdGs1L3aHiEABgwHh2SlG7woydxfebFECavAnGVSYck53Vj742FaZMzDfw\n",
       "7uZGoiqDeFiu+47tFaAiVDfvaReIxl6EyGI8fkgsG8iqAP+BGcaKXBGriVXN+Ucr6/6HOPm3VQ5Z\n",
       "F4EX71bFmF9JDmdiOc77NBaEJAM68MHq8Z2Xte3xW2p0gbA5G3Kf7JnpmcAP/F5g6dHYNJoajMkQ\n",
       "68F9yRjzQvp8R0JKJs9AUKgS5ZZTfWqUSHHIVYrhY3uuY+dP9Kb9bTd4M4cG0loo61nnVRUQZyTx\n",
       "lWVQQbuak8MG9ODFMNuX1SLMGLWp0oIFt1kYpcgYcn6tQcZ8Tn6b9zS4NSRICX6VzmYiCBCC4II+\n",
       "MjY0jMyL8Sgcp2fWJ+annKq/XRttLvS6/wU1kBQ0x3HtX2wSkEGq3Oai/MeilMylGozPVF/F6Jrv\n",
       "heItp5SP3K8TxSzq90bjpyhHFqGOTotCln/iLxsAQQLWRW3IzMxc1rLrOuAmhXPCF9jud11nCjQA\n",
       "JVJcka57Bvzu+KAkaEqGZkIQFTViTfFt4NgTeBEgxuASHc1pNOd3aqs/u59elnTMz3DYs5WEg/P+\n",
       "Iz+TqRTu/F6ZxfuTZivy0JAAE+h1l0pwxWXcorR+xT0zlnmGvJBVP2j4/zbmYHuzAxjQN2O5/FMe\n",
       "eD2QBnSoznuJQmgmQ+1TBmE13KTLeV2AnZ4kWhzoXi/KgKGu31/mX1kERF3/+KAp4xZVfWTiiGYs\n",
       "ubEy/a6him7ZQafYXfMA12kPV6HOhOkdGUEh9PH2RcX37y4wv3pPG58o3rlQVDy6blCnjA6iNpmb\n",
       "fRngRIyMCqLEfzDuUU/bbgz+ZFGPb7YHOjkquwz+t3IHp3jnHGBdev0O9KCRf+GvFtYrLCfmHRSy\n",
       "NVu/rZmhWA+1xwZZk8G6KmScfhfFBF1Hm+KKfGFSK9YBYJMdLJQoIKV9ipihpufHPtWDBPuDUwp+\n",
       "gQZXUvZoifp3Wei812KT6WTKG05Ze4fRI7tR+tpk3ysaBXRmdrGztv+CLmczCRTyPra8ikA6FSDO\n",
       "vyXMIjcfQMkoTyU5cQbGdZcjbvVa0BhtesJYRWOq859ZDk4qBSzdAbVoxtalcTPzQm5rQ++TRpCj\n",
       "5r9qkJQVZEU4YBwOOn22CJQy9saXY4cipBkL2hQxbpHT+oFakTMsdNXkNAPgP9h4dujCTDnZ2kBG\n",
       "zHeA8HdEvtIF057r9bISB//mPfWgJMGlEY8Is1xZAE2zZahN3yklHyFPVt3ZBwD35fLxOTy4j6Xp\n",
       "Kt0ufnZRexgXhDuRRruSgZlUoZuAg6bWtleeuKl0VBxCx4ULMqbZyp9aJCfv8qX/6sJlxdPquVuj\n",
       "/5v8Hroc3s0S/uwDgOufcNanbF7I4YKEM6Yjz3ul8GUPCvc9739NyVCIoSOm4aXUBULAKuv9n3TK\n",
       "tgLuBbJYbRf6j7WPyEkuZ4dkHxnf2kwIx4r5JNkfWdseexYvpspLKk4AIOtPJfZGX1MUVtjj422O\n",
       "b3G7V0i8FMJWAgR1K1TaTJ19FNXTI7ZyLswbwr99DI5uwLYKXjETC6KM6lVAxoCRHECxk2RFy9Vo\n",
       "rdSx6F1AbRkyPQ6SslxZoVc8WhR993wfPvYSQ73jEbXv2U2at/bMAvDtreK9GtQCHomOINym7LCD\n",
       "J3C8hH/aci+Y9XIH6E4Cho5PjxMQcnYG2+BBgGtpQFwClEEf/Gyyz6pnvFLBvaH8adbSG5qLz13k\n",
       "hGeY8Q38M30R59JYA6o44Aa1rRzdjzO6BWko9jdUsnziof3AqTvaszlgyj7ZqEJb+jEeg+nOopaV\n",
       "UBwf7pCrCBwr2/vYQH0qjMvvbsKE7OShd2WmxfDYHeQowDKi/Y45zdrisXai2E0yKkdyvjaaHx32\n",
       "x//W80D3bvme3JFqDoTYqPpuDPlv/nHGiT+yynKVT/9lr5J2DnEiW4yHNnRU2J5WMCzmRbR0rpOh\n",
       "gsNUFodI4OGRfGN/5MbApEd7+6TpEDA13CtR4WWd9dDmUHQFRIMWrCdi5Oc7/iZeGhjc7wrTOI2Z\n",
       "dlqYdOqETDFOxM4T17CsUAaOualnc+5/4jnewBsIMXSyHrLwl/DCSZxRCFCoC/RNnofIbp2ZeW3i\n",
       "S7RRarOu8cL9isa2+IEF7NSzEwnFxGeXaK68wvB83CkCWsodl5TM1OMaJ9OmwEp1cjpTf9S7Zdrn\n",
       "dGQ6dE/TJTREmFh4e25/BoYa+KfzcSdsIloNsIv49RA0yv2l4MMMRO11dmYd11xUutMg9H08alOH\n",
       "t3rgN3uvzrJrhi3JvvolX5qxsYcQelTMw4vUtlYL4CUnlFvMwJkGXW3n5KWa4NeFqC6FI8lZXieU\n",
       "OtiZNO/4M2IVHnEFHley3PpLNDD4NlKA9zRakzj7W40PmfQ6QHLGSmtYkuYdRFQP78y7mJS4sR/P\n",
       "Uxxbh9PNO9Ds3Y9qPLMyexW+gZ7NI7A5w51kSju+lK5N62L13Al1vlvHdgdkfy9d/EhF4p9h5t9X\n",
       "9w6aNXLyP9JjIOllIKPkv6NV2YOvm6r58AjMi5dqsqO61ayk1uzds+UfG/sMV8QJN/ellbpvq0sg\n",
       "b2gstt/ICZG+fDQjVcvMDQxs/RbYRdybXXyXTBusOp7Sst7r0ebk6BkDibyuHcE/6NwDFC4SedGe\n",
       "qsik5wiTgpPKIkBHCC4J6tHLlJ1DNBrMW+VsEwLx/wXjoIriFRcVnT2iG4mm4zUuGhIzkWsolvFu\n",
       "DylHvL8PcETDwBRKiJ3hP6LVzBkon3sXW+fNhorpZreM2W2dquEtDQtAJQVWHiC26ofXv+4DyxxR\n",
       "DWdJAKbO+56GpjAUVP7V53+1PqYMQNAyaPsLsSk005Xy50SB7ZL+1u+ZpZFwfZnYOgFqFjj5z3pb\n",
       "g2fJiuRTJK+G6rf0yWdEVUGksx6XomKA9ml40KRgA15HG+kOioL5X2ht3nYUFcbcG1NH1HtKQMol\n",
       "RaZNBESTfN5Fzi40TFvgcrnASEFE8gYXB4PhN3vxrzr6hhDwy3dyGUJjzLOcmTJzWPRy4q4qaB9z\n",
       "85rCLHHuX3BaTpD1PxXKUKXHG5Il/V26PrPTzVN/QOW8QZ8gvB2mSNGZrZ9tVI0FxJpeYW3JMfmg\n",
       "+ZLsaLKtWMPffqu96ByqRgE4OHl7N9viSSK8HXO3eU4zZEc9Mg4JoIcJi2L49DC6Q7KE279+03WF\n",
       "FQ7XEj4EiOnZos2DvaPOYVrZuV/SwYa+vcia8muv7OXkyvxLOmC8qc+W7M3vac/2rHypOFeFt+Dk\n",
       "avLl1aI8B0fMOl/mqyAKDT4A5l3f/tYX6kV2wTJPu9Gj5VZ+bm6nKBvoDV5D3DeBTzFuKoEByVyh\n",
       "qe9alIQ3IbqBp7TKkT20+TCzmjr3L5RCGmEMMblJRZ3dhQQmjkmEYN7dXOFvJfFNmnRtuwWYXeQ7\n",
       "UhGv0T6qnzyCY3XgTJFTA5sMLEqdVYHp3tEnyf4cei/qe4EjTw95eQuEKbArMsB4/cZZds5W/jO7\n",
       "Ib3Xz45MJU+RRaK/BfyXt1jQfV6ydw2K+dDjdiEX2yFQjTi4hN4SPw0QfQkh1nytxYyXvwFZgatP\n",
       "M/D5Ap5AuVrzkU7MWMl5AzIxIl/VaTB57h5LlmzIMOfKNaNPAi/oE52CDC79x6OpoVdulFhOZ6AI\n",
       "n01jHhawVY0EoFMks9hgGbPPHvCrW/yATNFVBrExVxycFhZjyGMbXri88duJ3RVnlkAXFS//08xs\n",
       "vE1XNo7dFtKXGWd6aStmuH6Z9X6TECBT78NybIxTAwVHPdfynMLZxepjcmtvBvjUTdNR2b2fG+H7\n",
       "r+kZUxEyQx/YGMiP9oQ75lUNB5NhQjVMwT2wb4NIU4Ja2fELlC9yS9tSDDsRjBMU0Ae5vEuHx1HQ\n",
       "mvbxgoeA9MEt7PGmLKvZWOC1K54D2vza6kg45RxsYBFANcSz0llYlddtUPnaw2DcxswBnYg/tDa9\n",
       "wXEPi2FCcdb8C+zBGPm9nq/fPQVmculRqMcvGWXTTLVy50yGQDCcWj5wAx4PZGIxz14B6jHXbVam\n",
       "pXimjNj6XX7yZtb8eElDc5fTRRoHpUti7NmnwQHANXe55P/kzKaitUkzc0G8qJejwJcQd+a8qBDa\n",
       "GbF7iZkBGTeHN7dvrPeRPFJ6mCTFFDpF66IvYlfMpNiG8sobgzogdHsrOGiChEV0TljmG6jUQVum\n",
       "XhAfD3G6JGaOgb+U3ULKgpaaWSQcHfG+nUUvIKStmMhxKANNnQFEvVfLMmhwO6NpDVbow0CrnzpE\n",
       "E5FfrH6IlvWFEJT038mXSeXQst2xt5CttNLmGFURmMvpZxcRM0km+Ovyc8O2W3ttri8DszbhC7q5\n",
       "JmorSNIX3QFbSb5YCV8viDDlIc96nk2dICIHApddmr44Ykk96hnKLLNTAP01V+V1xl89fPsqsKuk\n",
       "4nD6IvoH4jguoWG8UBUIEK/MBRZ6xjTWqGi8aPVTRW6nn3mKHYv42+PGHYyplNHm+gLLwBQO87N2\n",
       "Trn1X5ZBA7hmyI8mwGUBKajx0drkUNwjGOQaKXRY3r8L1IfX3VaL5xLK3Ou2CMIX00IvmMsYQZ17\n",
       "c6Em34+NS6udhaTe3hsmCthoJ6tfmU2EfL3MT7N1PMfDvSJx/IucGXQpQD2zaSZXqn1540rOYzsm\n",
       "4ZMI3wHaopely8ncAysONudtP7MIX1ER7rCi+hJizOYj9eCyEYmXK07oGBO2rfb0l88Qcnsl3X81\n",
       "GAYLKGRHVuCkIz+i/pfimYIgpyp8l1UXuh+vCu9qMHekebrDTGHzXDgQ8r1DPwCP2yfYWE4krejD\n",
       "8L5vxJnYFz32zgmSWXIQ1uLph5Ts/EIuFmYbkuGNwhzyIapBrVkbfhf7rUBeK1kVS3QUDlHOaPRP\n",
       "gjT9qtB9DWESF8+X3efAdJ+qPVuIZHKInNfbqxWhRDcUuiPQXgLSMaQI51pmhV4Cv0cTLVzKUrzq\n",
       "5BrhnsaJuYG0M746BKD1Gm6OTCZELJtc8jQar72rTY/TN2aA4smMuwedsPyi3uQfzV8KC/dhLd/S\n",
       "4seQ9AkcDBvH0XX5wu0FL2ZUJh9mitkhxq6NT6TfFtT+IRh6u+80un43A/jE1IpC3vx8ocaraahh\n",
       "2YAI4+MUvU8cddnHPPsFe3IR4zjRpIXTyzhFjD3UVOQ96lzJ5s/B24GZ9/8Ooj9uOKh5eo1OfbP3\n",
       "onRCChMPeTGtBiFp9DkaT0JPL7Y9urkmV6uyHySJrsp/c0IlrDMV8VlIX3Z97zwuhWaUOa7sbbFF\n",
       "zLKNNrNwSWVUQx9NwDAkXa5iw/mp/XwtQ5cKOkpQP/cUfuAxDfXOYgyIDeVMkL8dJxyXt7Ri5QTh\n",
       "owH1AOjF5G/vuAKVSW8QismfUicw06zsE05SCmnFKRCc5FRSsuhaDrmRU35O/aT5gjy/bRDmCqIw\n",
       "+aCcMdlH541B0Mm4MZYo73oP3GTrwn5mkduaKRU+hszlAcyTvSK2EmJP1N5OXe9uw/ORX45PV9tM\n",
       "sC5LtKTAVtFTIrrBrKtPyfzbXvEfjjIrtOkD3VtRk88jWlGIN2Rf2rtUd8M0yvawlFt1gdr7ntl/\n",
       "RQxg7Xix27d+7rJ7du0Su3/Hy/vBTKkHW443kGOOWFdRToDAFZUFP6gCmGDv0Sw+QxPZLSN/xtmH\n",
       "Rz2A+N3vgY7U+kzLE22S+jVm6JVOLyxZ2dT0ytf9EzFmWLn0ynem8k6O9vCXKbrR60mjWRxj9Q03\n",
       "Q5EMRlg47CG91ZCttuPDRnWmHgpEaU7gTstMrsnIPkx5Gp3L5T9Dl3xNJthwBEleV8iKCS3Clc+m\n",
       "UAOsKPgu8dqH76wYW0QDDDnBML4UqTTcaESuKT9HaB+K54TiaZgbjo//Fr8Do1k9N2i3JVvvfENU\n",
       "bQQeWfm+2yyPpC40AswUYhjAUQUFbwKLwPjPCiIXOm8KBhhjIr5lDdd5wk4ZUzLZzbUXA7A3OwOU\n",
       "oZhxfYFtsAeak16+zG+9TX2Lt1SnMjGFnJEWvO7rtTZlJIJhYvT2vzElQVTlnU7e8sTg4l/GI517\n",
       "voFh2BEVgCjbEOa3zg6aRa8DhBQCDPLs3nkcxAID7sWVg6iut0+I7YWoOhOJA8uNOrOFhGK7IEHo\n",
       "KyaUvvAONcYH7nfojA5PxAzJwnUgnqkO9It+0lhrlyGcTU1NBNDYEjBcnazKqJ4+aWlYp9cmCWZs\n",
       "cyG363laYbWx9JAVCxdSspZaxB8XLdP08498yjAEChxzk/woUtDRojXDvywikXqGq+JxG6XIBn1j\n",
       "AKmocpgBpVen5ZiEXARxa/YsI/PepOTGMg0wTH65n35jhYtiMXjz9Jrp0iyLjh1p5fkGIT2NP9KJ\n",
       "HVI+hMv0O1rKgt5VoTN42w1AnufB+Y7PLtbR7vjSoSvLd5hDWCnrmhWVIWw/XAr5PssjOrX+9FHF\n",
       "+tvUWcB02s1pf7Eq8NvPzHH2pjTu8hjkRdv3srxE3R53BHy8zJxsFX/0xIVR9jdx7hpkaXyOKBkU\n",
       "5aALa0Y98WcMHaFNOkhQ0R+FogABm18MEfAfI+u6MVmQ1rsuIQ0sh4f5c/XWNyCAUjGmxQy4N8Fn\n",
       "z4XlcPzt42sL48WqXs8m0F3fIlX8nr/2MLcCyL15X6LW6gjL3tXr0k2HGEZeOhn+EVevoG+kA6iI\n",
       "I/0QUua0BLXKteIYfMQXe+qwS90N98lBx5r2JUJKkBzZHj7CQqV9smpIm7G2WAqKS9J1vAfA9bio\n",
       "7jkDq8VckiQZ5OO8yF+j8CV0abuQRyS7lzq8gUV6JDGxMZV/7sLEJbRljzOyHvYD+Fb+rwMJVspZ\n",
       "Ztrgq9ohxi+FcsalFqDCjV39fMGnHNnM2rQX8+Qvw+tqc1IXgK1Z9K1mTMG4zcWVYWvS46yWPSEq\n",
       "OnJz/fFNdyKzXMixeYUZ0siNS+QzC6hZVJq5Ab1sF3j2LJTeameZA/RBQe3e3cgWi0IIlno9r3Yw\n",
       "XZ7TNCnJutK/CC8hA2vZUwPgJdTqElnt/IuPtVhVZK4GYX+lwIKCmfZ8oxSyCYn7cn4MVwFRo8UY\n",
       "+Z57mQBE2WOKISzPHDIdNQavqyec3QgnDDH4UbXWGzKgP3lz/hcMgzRhrd81mmuDMtK4f4Z6V9DH\n",
       "s4HrtwqfAh7sm8oORgCeNUtT1V2Pk4L1au9DT8qkszlZxXKpRCGcQJkYDkCOaLLVuLp/PJU3w6X2\n",
       "SqKCTF0rr4UnZyCoT8LjqS6AMC55nZpbkjVOFrZ2IoBRArlNiXNjVfKIVfA0cL6TyW6oY4loxn39\n",
       "jFeeJW8ngVylMFhYbEvOJzPd5nWywqevbyezcvD6ZfszEoiaa7P8sGafud4/qnO2LWr00MbTEKqJ\n",
       "OPqq6vN/+7dV+NnAelsROStWoStZaZm7t5q62SnbnrnlJqvk9hVcyiSzFTrCXWeSy7Hsuh6Q84Qi\n",
       "QOILHfiTn/nsG5rRd7itIoyiDMdjfiuAo4dCZ+xni78w7cHafJFjdQujy+0beelUhcdJw3zCC6AA\n",
       "6R/UKVlVfwdsuaIcqvREDZqSrFT31XjU/Fz64/3iyEK2AKOvQACek7Ftcz8V4k6t7hNQmFu0D+X4\n",
       "jEbQpLziqNRaZSiM3BNaXcgQr7f+X0ErQT1wopSVhyQqjpN0Mj8ojnGT4Et4nkrZdisqSz3qhAvi\n",
       "TAkEsEKwMFonuiD1lCwOBNh+oezjfNEfbbNs/9CCHHyl1d74C4MvxKWnvfD1wp0yZqMLJ0eQ3Gha\n",
       "YcU49bV/pohVEJ8fBe8yD7GC+pDB7yAAMhPoRVUZt5SgsKjD6qtP4BrtWDAbDejr/m9LwVX9rUmv\n",
       "zsqQ+4JVviF/8O5Ef+/zJQ8dBumL4gjcskk5jQjY1ZUPWJ4GCfjqGzXeAtZ8ATJKc34ln+eWuMoV\n",
       "pg2unLcxfWKEmyRu4Vn7KHIKN81pICrEhZ8dBN1Y4bOfaxmtW0l912uRetvKMvzeV8HViYyawfBS\n",
       "vyKTJTm6eLtXyWfleGa6dsLCnt67Bz2/jdsNf/HnJUHTDS+Q55GG54UOgawWNRQQtGgsgmwxPXcB\n",
       "lBDsmvd1i4/EylGmS6ztQB+atPAvUMj6sD5owdK/OmJ1wO44w+viCGokzbR5o8WWi+yvsO4K9fyq\n",
       "xAeLmqAJkOxOqPyr8XHAa9tJxLLHm9qDvyxxtHD0f+m3fn9xU3ODQRXI0ZgXVVoIPsm3Mgzcx1WW\n",
       "2hGkeboNNY8OGCfkvjBG9Q5+c72Cjln1wLUzAGxvque8H5iQujLqtKWYZOmoMaxxm4oYqrazKVGW\n",
       "0v4WjzB1EpSuZt8rqvf2B1GVWOtXRL6Rx5kTmxDgTqJ8dXAqixvGLoBmJEHw/IzR9pME016K4l7V\n",
       "GoNOlH3Qpn4enRTb1KuD7RfnOokxxpK35Qs/BmtHInXlINE5hPy2zrArocWW01alKmuFXpxb7dvz\n",
       "lhFzxtKeHTFcWOXwgDozm1s9CpqN8qXtxDvQBd1wEdkvU0CrdMGum31yy/mQxh1lGtsdeIa7qJT/\n",
       "PJl/ygrL8XrXxn09CJJgMsrqQQxLq+Rn0OpazSITbYhQ7r0NgosxaX78T2LiuDHEgmhY80mETcQX\n",
       "yMOv8tnO3byMlVyBsFv2HOeX+LExeCd6tgUA0CqMvGFpS2tYg3RTvgTPFdzyn1eDzzbZBSzVfrOj\n",
       "ILrkohHUI5loAQAYGEGt7uRZSpOYC7BcgQLVgcEMXXer7xEGucJh5bayFsW6X74XrtEfKhjt7mhK\n",
       "E1zHpvX+PDHP/E4fVa1JSnInVV+x4HNXdsJmDQ+MA9xYKZP2nr1RODaE2vZ6nTp2qlHEQQr5R3up\n",
       "rnsWJUmzQXyHKZ+BZbYvd5PosLsbBZyLx93ZJDCwK6FLS+ZoWIMA0yMYg5mq70IMcnOikd+yzNCX\n",
       "M5AXRthNjpPjyH+wyL2asPLK4y4qATqqRy2TpcmEQI98sIpqTx6+MiA8FKLQZ79gZQHSzIYg9cJf\n",
       "P8VhtkKA2zX5NJo6/0tj+vvAsIQQ5YVKE495O0cNVrSQ6BYArlOfJ8m2jKGyb8BhOqxtSb0pWXjl\n",
       "6LMmZrTzl7Io7P/IeZ1ubdfCXnvFLbGmxQsoglzuGdnUZDRkxjV7lcSXxGqAts9rYuf1XPFtUr36\n",
       "kPNw+W2QybDMtCLcL4IoiPfzoBAcpYnIwEdAHa9HQkK6V9D3leMRn+R78oUckBb3i+mgt2Zo2Hjt\n",
       "rEppLl+z51sp0knW6AarD1mT2iCaFfVhMCBH7+NSPWg4IoqcSsAUXvtHtE0SqV8qZKQPILTLgYbW\n",
       "A6e/5VR6F01pMOmTNXkKRhnILxIc6sQ54oRkm+h7g5jomrooKWKdfpnXHof7VEadQYhD0ksEAfHG\n",
       "nYXlRm7fcwVnRH2iiDSazOaJr5LucVER3vwtVbRqVjZqGqa1QX0qIv2U05dapB3c8/KvAwwzZKG+\n",
       "r3Zc8aHnROyZlYxjV1YxlWZGfNrUqSOWsaMXPpkOYJokxLT4ednbZrV9H5L6jCb9Uf/mjywMoZKK\n",
       "1U7gWgGZW9+Lluau6GHHzq191LPAiqh+dKKpdm22f+5cx17hUtcX5R6LIRJ3H8Cp+3SVFxj08cQG\n",
       "161gKtO7vkfI918aOJomRVgv41oSF40bOE7IgSknMEah/Kn1UeTK+Pddtgx+Q3BkXRHWnaPpt6kf\n",
       "FCISpvZFrSQZn4clmrP+72GIWnSeE9sxJWHkdU9+ZXVrAjauOMQGdlS685QWDkH5RTI5Ci2/7cTu\n",
       "CvL59A3BS0Nv/+VlMg+XhbWSz1PZLhemoYJk63nD+nR5CvAfmSAxwhXlxLRPq+23C90uSrAaNUA9\n",
       "EZO7eerdz84MQld7k8xphLXWk98xTaRXCsw6ZVWrRm+pm778I1qe9y1gqsXkkRdYT8CcSeiWFAfF\n",
       "cItyiEsflOn2AuRhjydcS44GonMk67b3vpwUKeK6o/AX5tdPcWjVglGyHcnIySp5gva7eAQMPJpu\n",
       "8UTiiz9DCde5KB1PZMVQyNnC2HfXxg/1/oKGvCwpY/yVsY7UcV4j/cqhSWtsdCtHzDN3clvMmilE\n",
       "GdWGCiJld2ll/oHBYENYs6cHrvH8wuAOwioTjNZB935NvsmZ/Xl4pEUObYnKeLUeehT6TJPiIs3Q\n",
       "t9eOHXw1c5L5PDijZp0BlENgJvLX9E2GhglN/cpN3C0mTHjgTEPM4T2tKbdJX9BJ9XJJfbhmVOTW\n",
       "PZDvCOfy8OJUJmRgzm0jR0vKeYrgPdM9gBeIBx9gDoNkLwMMlGMaJIwqQuLPfU12nJGB7dhZxsy3\n",
       "lhqxbaPWCHceMTJuVLx2yPXkOl53wWIzwFH5JTilv+fe0J8bjgWOviVfvmFv762m/0xSnhgPqvad\n",
       "Ubzn3hdLp9vKqH4trWQw7uETHKFwVaCds7tv7O9WOb9OjAY3zh/Fjifx6SuW0n72RBcl38MrWauj\n",
       "044Te6EIt2G2scPeXlXU+icH10aGw6rIe6qvuxXBkJ63bVKJd9Eon1ztuR8m/Uo88+zZLRseAbzQ\n",
       "fNXFWD92xRIv8vIUI44Uc9dAJxpGPBZ4T0cxhEzp/2GfXKXYm6H9egd6kVoKRkHPddtOJsOKfnV/\n",
       "a/WbQIRVY3ibrCFRu40uydJ7h4HUkhnUd197Ghn4nLX8stODLvRh2QzI1+F3jrHo7FpTh4fewImN\n",
       "8isV6Ip+hvUt+Dmx8ConR6oR0z3gAbzS77sKKtGh0CbNvv0G1Vq7bE7F75fLyT9Xv81rBCQDYkt8\n",
       "AJ8VezFToXmpLUQeTlL3fX72wOTcENfdOq16MkfXyPYvBycxCAC4TQIPznqcPVB435UfCJzrsKiD\n",
       "0ODT901keTRbBdfTIBQ+/36QhOzY3Sl3+ovuzCmc4/eXT6fRxQ8RsV0rWT9K46X/cvwOxtw2Lkqk\n",
       "uKxmEym0uwFV/+H+Qw1B18fPSQKi3XXSaOoHgv9eySTNbuRRdBZb9IppzxvM3q2imDBAMRLSSUfw\n",
       "v5c67C6bOVCYOtmtOlClk6uxmakPjA6CdQGU9L4rszfZ/jWIFYduGDQNil2Q7ueyc3KFjawJrMc4\n",
       "+8irravwZMTsdiPVHTnnN/PuJgPoP+A9d7/T31N9F4+fGkuJ3GxSj7GNBxcVM7unhX+Shs5HmaKH\n",
       "GyPeo/LURhf/6gWL7uBTsy91LEZS0fK8YuUGvlxobfU88l5mEOK0gMbJD5XNrpI5YZSfGDgvPl5X\n",
       "vEALNs0fvJo/AV09PoyOfHStm3kpT/pYyGYD/B5AzYO5bYrSOy8+Rv/7MHqyoYwQZm9PxVhjcBTq\n",
       "VfCtIEq5raMkq0syvFAoouDgaKSoWq4IFNu5zVIjdwHcLniH94P/OWBFihg1HWBXK5oe9npTNFxD\n",
       "dICrZLgQcSbvCejMnWCtwifijWzqrFbv15VTLtAPwgnCVXtpNx9OW1dBj8QbRM47vNp8aRpkbw3y\n",
       "9bDXESs/ZjyHnug2qtEzzLOBfdKfQeaAzMmrI0hcuMg9ukJTFtfW5xEgbFCRj0/vIfFMPU0N+2LD\n",
       "trXeoYa1LW0jAfjI1DXDVtg8XvHmDkc4xesc3ifw/T0uTO6/HMOkqaYW3DlFO8+Gta7KUlWhYGMp\n",
       "4CQ9ZPnja7H8rnQAsSokcnPtqP550xx1HyAi8rSqddZm5Ldt7rAvFwkatPV9uLrYZW6Sj7X78ARq\n",
       "QhTZI82gFh+nFKMMWdJ4RkY+kttQwU3M/cW76OtMJ08yB3JLsgSQx1LQP6EpKBFv4iD34sO5ziIr\n",
       "zPY5zcNUo34f+1Yu/7iDCr0mFOody/qUPEwsJmKhcF1l4Uoj069bkTONUUnRKwDe7ekxRrAroguB\n",
       "UCKom8alIpdmcHC7nP0DVcvShuTv//SIfd1HcH3p1udRrhFrXAYTuwYprQgOlAAVVN7Sf4Id6OPa\n",
       "X3nW6AoBsS34E5tFd1xDx1XBpNzVmxCaNX+A1vcfrkoeB15575ulMUh69hDUYi1qSmk0AT9U6UfN\n",
       "2kV7LqxRA/k1qTMMdSSy+rCV+guM65cZ5axA5wQdfe4qRc61UCbOYmzEjByfy7PKqzMcyjQgKXwj\n",
       "m9ZYegt1cIyRMOkpfG8tRsn3++yQ2UOWwBjdAjvfd/2z4KjKGGmV74nTOhlsZewed4iDlEoOAjWo\n",
       "EewURul3YfLnXlDIn9hSMx2OP1pegZoPzWtvJPEn7XsCQr+fTOoYbeo7ZMBhPj2QdbjZ736NO9lO\n",
       "IYNaFUGLUVk6fLme5oJwfvVCbbqRckPHbOueXFGPJGFKljJ2iD5VFsnA4d7V0ynrXBpji6kDS2BQ\n",
       "RE3UqHtF3kK7TwgriYpsCUnsIIlRydZW59rqP53oQ9VpJn71TLcgEZHqOlzEkc90SWvMAeP/X+ij\n",
       "or5QozShXHgAxQLbcKwofeE0HrtL517HNcCFBIqfwjaIphSauosf+NaXcnF1/uuHC/8NND3ZKWdd\n",
       "RKjIOtyHBkSXySsa1YCASbfUM5KKiWoAflRXiBVWLZLQBiPZ9JmbdGvwD2E6XjmV7FdcV2PER/dT\n",
       "Qrn/pVxwTNXLhx6abk/yJn/zcVw2g73GGOaCIcUYUwMNPv4psdKR+cqDiI4XrDnW91Ap+QkW1PdN\n",
       "6IuTlRy5YEz1H9i31MFH57T30ldIJXPX8zRWFccA6veVWmI5diolX9O5iBL+mUznbb59dHsXwzHT\n",
       "BAZzJ37jcoKYKHVOTG/dBvm9+N0MtZ8zx304JDbHejf6dv4XwYPE1kIWWsjfidA53Fn9zMKkUHCP\n",
       "UGIVfu2blI/C+Skrg0SRRlf6/PTecg3KPcwp85ZrMxt1BeBj6BLJNZRZAGR21mWgCSTpiZ7OwWeI\n",
       "i6U3Vir9ebM0mQQ/HjkyY5Et1ORy45x7WK/KKyhpwapptGlAdiqlRsDzdI4Ti0dCrSzT1skki+nj\n",
       "41YfsB7/cpnz3sbE6fOtV0+DbjIVsSKLQqAwd2SsvIcwUUUmkZYaoS22zohNOXng2lpWZHUuhH/x\n",
       "7DsiKhtmDMShG4duEq2krNgd0NlGt1PcC++W9ptqvnksEcYvbwUN3VJXtoJArWmcN6e03tl7PkOd\n",
       "Likag/rQ6RXbdyhh0sklE9P1e4zBXEGNCEcYCKQzmBWcRMRWG/J7znJ6STyWRnbmIGvEnYn8e8fM\n",
       "+DLnJDjFrPNx/CA/LLLzs7/dBRnh1PlWTI+2Qg1YCah8ExLpPT8Dy0evbQM1/5VgDuIgHYb4FFYx\n",
       "E5KjDLxD3/gQOlUzppWMlmHGBlR+L5t6jAf49mu5OsddnUGmQXSfmTK22llpe9WgKh48f/958CsU\n",
       "4SQ17GlLe/dWfOp6ECYkANw1tBziaCYZT2hKV8v0BhkYf1e434K/zT/G+beC6UhwfYrl0eoBREqc\n",
       "J+58Rek9TYJXELQSQhmJtb1UgwGEs5tPGHm9d2BcK3aLzSuvOKLdv1Ke8ztG7K6ErMjbo07Y7p3X\n",
       "feO2wObMfSgHbXukq4PQk96kVMeaMkJ6bhdNdFEewlaKoNgI7lZ7k7iXY1w1ml9184Ahglq7KSOp\n",
       "RrqgZVrIX9TAfTNv3yVtnfTklL0Bd7HVTqg2rLs+37wvwe1nn5AnDO8YdXXi/Zj5YFGDZq4ZUNKz\n",
       "otESLBSC39coCL4ZKulUTIg81I7OZhqo7mfyyX8uD22262lt4/1qe9Ko/6nYAs7DbYMku22oWi4R\n",
       "3IxjMr0j3/qvi7ibISdZAXx6LuM3AeGrECQ0nFWX8+gjwPDNiEALtDhfal5CKpHgVeEtC6nJv8N6\n",
       "L7J2NamdiavwnrT00+vMgtXy1HEPO4q8Hn1J7N6cgV09Ik77nyFtx5up9lBJL8U3JZ7N9RVm02fA\n",
       "w7TGrIzP9qOwx4hnFSRhoAFXU/0aYH+jhBFfDHmLuHW4d63mGc3OFhzdD9BgYk/CGbW+BIoFMxW6\n",
       "1+DdkHpthflO5/1EtOV1yXXWuBLHjf/xnfZGJfqwBle7WwYotyZ4BxbAiFEBXg8un54opyhmgRyv\n",
       "Ew7v+Y/CG0Fe/diwqshE7dMMy/WUaQtYaADDtIvIXfSrF7DvZg7ZW9oo8z4RlCua6LnXOi4cUApS\n",
       "+1TIPTmbmFBMEl6VBz7JyLTqcds0gRdSiJRVJzmisD9S/iX5qaoaG//9OokMD6m/ZpxdGzo3VBS/\n",
       "C4hccaRF7/+cCBeeQ4oqjpwhoVXtM0SwSemcAXN3RIezxZOuz21oAABC85LrwZRCBu3NDUJAJiEA\n",
       "AALhQZokbEL//oywDK8Tk5z4GfBIQAI/JDhiC5aMa57kCis418BoUTbqeeMM/AohZrWEByfi2fIC\n",
       "xXlybo4s/MMHAOk/oQrsf8PEfm7/rwmVD+s3esKE55R6OZRzXR4+8uAD6QSvT/DT4l24yNlajWi2\n",
       "VetvLC2WDdzhIYl9mphEktxIOwdd4XIbJiLo/sFYXiRxUoIRYpK8PiA5i8f28vxxARtKzPKFOaAC\n",
       "Kg1O6qrWu/Kev8imt3e2E7Tm7QgFPxk8hqH+lPAoUgSMexmsdhDPyinUukfP+DuFzbK4cw8Br6RY\n",
       "O04RjpyRqr+hNTORd0FqN/YObXPknG/E4irTAB9kMIXyqfqYFdNchBWCdyg80JHkAzf2CZAidheC\n",
       "AfeYzmLP1n9FQpX6fhDDy3cPS/FP8K2oysuyv3XGlcUkZo6kp9uzEVmKFUQM5SliynrRY62nQskG\n",
       "JcjasQgUmmFcxgzSdRl6njWXkYAINGEvU9Dy9HZj8Gmvzb6TCiVPa6dzLh5jpTbW5oHleZW9tzpR\n",
       "8gQ1UtTgK9+/99VmW9lEbA4Ydi50jxFfviGMkOLnZ3MC1kervvXnUxQZNNLP34nVSte7s2vynazx\n",
       "xwHJ1+mLEnDB1oWUeFvYU3fPl/cc1ePGgGMQzA2JhrZmkPIlQEyIQH/LUA7Xhp7PLvVNPdsDTGsY\n",
       "+SUTdlCGDcnRb5VjZ77dffSK1fCtpSDFK09yn1Z0Q9CDp+zWCtOw+OOI1A85YS2b1Ugqpuaxlgdt\n",
       "INFb7QEFXL4tZKDcHgoMWj7Jt1G7Y21azy4Yr3zcrpl9qlNOT7TEJVjnWJ8O3z5XKniEhH0AIbt4\n",
       "jrz00eqWTfbi6ypc4dMzn8wa0fMqQq8XXVTUF+EvjMMAx00gxmDi0iTjVfD60ZXdenU30ZYkYadR\n",
       "wZKlmqS/wMBV+EW4cwlTqB+qi1T1AfuS9S2VqnzciE0dlxBjrC4buxvtiq6xG+WHVzuU1sfQhIAA\n",
       "AABOQZ5CeIR/AqjyWzUwJi3AwzYld2luMxml3jILk2iDUI9rbx5LelGLQ+9ZwAD39yEfmTgEuKlJ\n",
       "8o9Dlf5X2JZF1pm8CZBu3eduq48IF4rZAAAARwGeYXRH/wXGzjhBv5Uwb84fV8bG00VTBcopneKH\n",
       "nuGMMsQxooGogAmTJfz2Z3d8awn91AJUgjClXXEq+X2/Rd0W7UdgW96IAAAAMgGeY2pH/wXHv1IH\n",
       "QFh2ooDuOhi/8Ig+2ys/qwwASoXAdTOHRCm36IF81vv+BabpU84pAAABZkGaaEmoQWiZTAhf//6M\n",
       "sAyvE5Oc+BRj7ugGu3qEU48X/cJ/6SdCxbKoapQVR7u8KCLlj0hMFH1erOTM2+0ctdATc98V7sdy\n",
       "QpfF+uXf+HlWPmG5qzne/rKr1Ug+JiRb6LuA1koliJHUWx1sExFFWkGVhOM2Y8gqt2EmFLllYM1K\n",
       "wRsE+Qr2B8c2LpwJHoizo/GWu5fA7H9CqSFqWs19VrwtTThZOqv0k6yguaT9YbyUqi5GVhup3TX+\n",
       "xv7OnHDMJ9SImD7QszAhSqVXu0XTlUmFa5lX23wGhyECI2L8NbGgtRbhzkNXYdtscI84qKTiwVDW\n",
       "2BbwA/DaSDPgDGEjvm5MXcrTDbNmIRe4iegK5rAcgYIiFuATa5K84vNQ0vFWmYSIknyI6xE1pE01\n",
       "pmzRR6xW55gDImXtJn3WDN8imfqZCOQxvWwkw/jHan19Q3F1N9ZZBbNWfppwKIpAAXJm4LG+bkQW\n",
       "asEAAAA8QZ6GRREsI/8DtaoxHD8BvrQ4pFnk9vMgyBrSWZ17ntd7xMAJ1lGq0nbwGXJ+6bHNSonZ\n",
       "lxHB9vE2zTfZAAAAMgGepXRH/wXCLUSpENI+zuwVeD3qV7wz9DjIpODAABMrjldpZNPmnuftUolP\n",
       "Xoa5jVH7AAAAKwGep2pH/wXGAyQejkTtQxYdqBPp7l3eMTW74ACdXD2Ve3txSgHmJA+YBSAAAAEX\n",
       "QZqsSahBbJlMCF///oywDK8Tk5z4FoXQrdMMyVdJkJzp0AKDbUYktdcecjPOjnJ2SCWfMhFqLUps\n",
       "WuK8lajxDWnokbeRiY4QylD8LKCFydvEFxGof0yD/4oDTh/oG4zDcKeEpgwld15eR/g9XuEfHSxY\n",
       "IGMthuzuAu7fN8ckdFA8VPZHwjfUTld8C1CcfFI4kqTPV47oNTaTVuvoVSMD1iQuIMaEqTxIW+Tl\n",
       "iJZgts3RRsRobbJd9K6VB8B+Fjmb9NmP6RNgu+I3jxyZCYK6fssRMWoQs3letnIHFYxkMuHn9NAt\n",
       "A6hSLX3mv8of7RtaNr9ki9CbEHVMynAd3rzOBsFN0BG7a54hlATNFgOfVd4guMrAH+E4AAAAMEGe\n",
       "ykUVLCP/A7YotFRnM/WCfl74x26RcV50utoQFeEADaAixfQ42vC75b3uB34AjwAAACUBnul0R/8F\n",
       "wi1EqRDllRYU7gndF2ZC34AAmV982+MWQpBlwVWUAAAAHwGe62pH/wXGAGB4rztrPmAR/vBIAAuE\n",
       "IuhgdNcmLqYAAABmQZrtSahBbJlMCGf//p4QAAXPHaUAgfOCwLHBFjxkCy6xA3wN0wpFSd+jq52G\n",
       "pILGXGCLdtuWhpJceg/HeoGQSq9maKyb00tGtKkSV69A7P7L0RfRkuxqOB7aqGDN/3zDn+X9tzvB\n",
       "AAAAaEGbEUnhClJlMCGf/p4QAAtWNxwBVuRbGLqm1v/D9lGlBjzxMUCM5n0HcZccJzRvzlPUyHxb\n",
       "CCdtJOwu9tyexOYvm4/tN/u3H/jG295X44+xcO7yNjQQ4TZU4D0Yt++FMXmxbmkIxQ+ZAAAAHkGf\n",
       "L0U0TCP/A7Wpx+7Cv3AjYDbVtwoLyOgZUDbeEwAAAB4Bn050R/8FwinvdxgFSVzwAmWgloTKQWgQ\n",
       "FwX5CwYAAAAdAZ9Qakf/BcYAYHiI9BkoAEyz4ksAaiELZj9ilEAAAACaQZtVSahBaJlMCGf//p4Q\n",
       "ABbN9/BNx7AC/GcBN4ez0vUVfxb9JTdDw4lBCHQSdwv4dgglg0upUWLCjAOBtioatMh53apRL84z\n",
       "WuWPqZ6SNKhMGhv1g66IItE0Lfv37QHNUsVIFPPJD002gNmDNuf23vx1PRHLKBuEMdxrFJz97vL7\n",
       "vhBS93JXbZIL122GeWzLiP+3dnS5Y4W1DQAAADBBn3NFESwj/wO2KA4GUv3MMJ6xwreKnr1wAlbm\n",
       "wxhRdzc4PgoPp/rmILyR3tPHWXAAAAAeAZ+SdEf/BcIp73cbFMiRSZDAAJ08RHiF82C3MyJWAAAA\n",
       "FwGflGpH/wXGAGB4imlcpANYqg9jZ1ZBAAAAaUGbmUmoQWyZTAhn//6eEAAWzffwkrzQA16AV3VZ\n",
       "kum3BudwQPwPE/YYF+ITwafYYIQHzVpONP2HKJxdNETyyH6eaIZIRd1HSEHwJu385NqMWLfi8ZJW\n",
       "M8NzQEYRR6VPP3+fZF0b95MS8AAAACFBn7dFFSwj/wO2KA4GUv3MMPm9AAlPmc9m4qaSeawA+YEA\n",
       "AAAdAZ/WdEf/BcIp73cbGxlABFVr2pXk7unqMTS4K2EAAAAdAZ/Yakf/BcYAYHiKZ+8tiAA2gHhf\n",
       "9y7SIXNQsoAAAABtQZvdSahBbJlMCGf//p4QACw43HAHKN4JftPwQqTcPXjJ761HssjJwni+H6hM\n",
       "EvJe6s8gNk8l3DTb1D1defeNgue3Y6+hVcRQ5E/0z6RzQOKX9MbpeuqIiLb8tPwu40G2ihQ3tr0R\n",
       "8xkwY49+QQAAABpBn/tFFSwj/wO2KA4GUv3MTvq5FaHxhig44AAAAB0Bnhp0R/8Fwinvdx7yr9Rq\n",
       "YALQ+EApVUQTumyiLQAAABwBnhxqR/8FxgBgeI0qodcAEXp5NIxEs6NCB4HhAAAAbkGaAUmoQWyZ\n",
       "TAhf//6MsAAs29cnP147eXAHKNJ71A7n0HLeem7KHJxrmDPD7T0Z0XmP0Xh1fvdKfCiPgvPK7ssk\n",
       "72Hzk9rz8gPi2XYXqv+Zq7tdVQWWqwvgHotxXe/VYRJCoan6ggqmuKBizMP8AAAAIEGeP0UVLCP/\n",
       "A7YoDgZS/cxPMhNgAEkJEpUbW5V8wFBAAAAAIgGeXnRH/wXCKe93HueQrQANaqKSAWV/jp8G988y\n",
       "cFR7jbEAAAAUAZ5Aakf/BcYAYHiNKEJvdtwQk/wAAAA1QZpFSahBbJlMCF///oywACya/uQAvNKM\n",
       "fE7J0gi0rmG/+oGHUmuqCNvT7zwcsmffZoLhhgUAAAAhQZ5jRRUsI/8DtigOBlL9zE+/10AFseTz\n",
       "4ykGyAfBEPSAAAAAFQGegnRH/wXCKe93JuWApa3SuYupeQAAABYBnoRqR/8FxgBgeJLhcLOqiMg0\n",
       "NuXhAAAASEGaiUmoQWyZTAhf//6MsABZMZkAZlE4Qt7aOw3OXwEBZ2UGPTLCFyx7T/FX6ImygXZM\n",
       "S1jDNPonsbQ7nzjAdTDDhLvlL2qiFwAAABhBnqdFFSwj/wO2KA4GUv3MjjA+up2gsW0AAAAaAZ7G\n",
       "dEf/BcIp73cm2LT+HQAmWWtIWq0vW2wAAAATAZ7Iakf/BcYAYHiS3mTaRI0IsAAAAEhBms1JqEFs\n",
       "mUwIV//+OEAArHmCaAVadSJibiZlXWP//5Pi+279WpOoIjz9g8fH5gf4Rt1DU92DPR++xbqHcpFj\n",
       "UEYNVwTMjBkAAAAkQZ7rRRUsI/8DtigOBlL9zE9Ve4AHBSNV5oQUj4yTIbdZVUHAAAAAGwGfCnRH\n",
       "/wXCKe93HvdsoAEzENtygnz/DOjG2AAAABMBnwxqR/8FxgBgeI0uriOxxKA9AAAAa0GbDkmoQWyZ\n",
       "TAhX//44QAFR3b4JDDURfnA5kRivA++mbTFfDXFFYPbgwPo/b4a0mbEn9/+/qXBD6WR5TrNRyTQD\n",
       "AMYGCGZp+PN6XT5S8C2A7l9ON8IeI/OGqKQEyIFu55cmDsuNfS9uIdhFAAAAKEGbL0nhClJlMCF/\n",
       "/oywAFcVkjYs4AoNtSWRLyBs+1rEvKyKuzaRhE0AAAAjQZtQSeEOiZTAhf/+jLAAVxiyXv+ACvbB\n",
       "Zi1cEGh7La7ugccAAABVQZt0SeEPJlMCF//+jLAAWU7/NgEw4GI14DWUur4qyUOZH9ioPgc8hIb4\n",
       "qYCOZ4QhUXTkXMPpCqc5vE1mkpwXXNgRvizAyI1UFWWpb+6acxmdmjCmgAAAACBBn5JFETwj/wBH\n",
       "Z8+pgpvJ00AIwGS4cuQkCubq/oWGwQAAABkBn7F0R/8ALN0P2b0skAG626Myf21ODnnIAAAAGAGf\n",
       "s2pH/wAtkxwALN58FoZslLIDIT8s5wAAAD9Bm7VJqEFomUwIZ//+nhAAWHNB4Bq+t2CFDbObkfCX\n",
       "AMZU+dyIpACwfPS61TTspfz/nRJO/qe0VnF4aZhek0MAAABMQZvZSeEKUmUwIZ/+nhAAWM0+PdgF\n",
       "rPK7c/s7gsExh1BHauUuK0MHA/LF55hSlnMqdwLzw5VqUU7OXSOq1F0EoXM8UqyOU6hVufBBwAAA\n",
       "AB9Bn/dFNEwj/wBHZ8+rsZUsdMLgBt/fY2Co4mNX9EQ3AAAAEQGeFnRH/wAtcVtkV4tRSDbhAAAA\n",
       "FQGeGGpH/wArwWl7ABdRLeyMiJIPSAAAAEpBmh1JqEFomUwIZ//+nhAAVjPX8AOEpprdX99QCjQ9\n",
       "H8qo7vTCSEqx/i1dnWZ4Axdr/iqgoTIYkpdBE/xSWXAhhgpZpeblMYsGzQAAAB5BnjtFESwj/wBH\n",
       "ioM7lSu1SACca/noq/JVwFclb+AAAAATAZ5adEf/ACx24oAJsIA+PvELiQAAAA0BnlxqR/8AK+uk\n",
       "Ig9JAAAAQUGaQUmoQWyZTAhn//6eEABWgbqpgCEfvYQWPVUMU3K9nKV+I5oTDEV5HdujmJnOXLsK\n",
       "6CH0JxWwQKlL/dXOJwS8AAAAE0Gef0UVLCP/AEeKgzwPQFaGY6kAAAALAZ6edEf/AAADA7sAAAAL\n",
       "AZ6Aakf/AAADA7oAAABwQZqFSahBbJlMCGf//p4QAFYxuOAKZrU43Pyjn1p9d1HZ+f/D6TH5O4Ob\n",
       "+Ibh/P7evdwEk0UnNKW/LGnWRoBOOGujhUSAnP77w5j1oKUdfStMG+VMVmge/kqdVLQnN8AcgP52\n",
       "Aeih/LYdPwvPzUjGgQAAACNBnqNFFSwj/wBHioNGNz0ALd9Nh0zq7EmsPE0d/dBeTUgLUAAAAAsB\n",
       "nsJ0R/8AAAMDuwAAABcBnsRqR/8ALHMcAB/N/thhm2P+brRi7wAAAG1BmslJqEFsmUwIX//+jLAA\n",
       "KpwUYNYAAc9TcrLvHvNvImQdgKI8jc/0j3Y1z0QLUVprggmOHd/u9YE9SVNrXTA2A74kqV2uXCT1\n",
       "2eJmv2g1AZWI0mJFXK4evEB12in6Q/IlDgfvxBy3ZWj+M0O7AAAAIEGe50UVLCP/AEeKgZqmPUAA\n",
       "JaxC2vWKjHQR86YAQ3IbAAAAEAGfBnRH/wAVif2ZDC6N41IAAAAPAZ8Iakf/ABWUtuYZBgkYAAAA\n",
       "KUGbDUmoQWyZTAhf//6MsAApSJFqyatYARbh6quGABA1HE6fJxN4hhnxAAAAHUGfK0UVLCP/AEeK\n",
       "gZGca8wAW8Zfbg5lROYJx9ueAAAADwGfSnRH/wAU9t8X1vIjBgAAAA4Bn0xqR/8AFPGCgiLBKwAA\n",
       "AF1Bm1FJqEFsmUwIX//+jLAAUnHbYAhHlCX8FtiZvNfwaCOdoLFry2jhb1d95eiiqZKq/52f1zFk\n",
       "xIYrLZ9YdE+h+h52QJRgPwau4lv4ssTtJMZtdypXODxeWiKFRI0AAAAfQZ9vRRUsI/8AR4qDHznM\n",
       "AC6Bw87cey6pvEPunE4DYQAAABcBn450R/8AKh6MDEAAtQUkgDQqBi2TKgAAABIBn5BqR/8AKfPH\n",
       "qDhBKWe0iYAAAAAqQZuSSahBbJlMCF///oywAFKaksAAQ48lj9U5R+JzVZhVxpXfRugV9I5ZAAAA\n",
       "bEGbtknhClJlMCF//oywAFSynQAIrE6uuw+j1R15Bd12WLUDdVCcOPmQ2DTBTf7iEfNOvBQaE6eG\n",
       "366nFQqMp3Xzn9sBZU/OCKMdFZu/CF5mKOt5Unvdciq+t8oK1MGmdvq3KWZX2CqcCzRhXwAAABdB\n",
       "n9RFNEwj/wBHZ8+BDqXTyAbY041iwAAAABoBn/N0R/8AKXrDoFABONBWT+EiXfYxHpNImQAAAB4B\n",
       "n/VqR/8AK1YMgAta2T2aGecgsFUqIMJoeOANpEwAAABNQZv6SahBaJlMCF///oywAFbynQAHG8Tu\n",
       "UjhuOM19BQOlCsyFI4DUNplFG1+V192Fs+UOZBpPJ3+o8KoOtt6BywYVBNesZk856KNGFVEAAAAe\n",
       "QZ4YRREsI/8AR4qDRznMACGy7DUECROMchscGZMXAAAAGgGeN3RH/wAsXkx+WACZL+WAOk73FVRz\n",
       "aB54AAAAEgGeOWpH/wAsKD3FsJxm8uReEQAAACRBmj5JqEFsmUwIV//+OEABT7KBAC1R/xoYtmNh\n",
       "cgP9IGEgZ8AAAAATQZ5cRRUsI/8AR4qDRyqwL56VsQAAAAwBnnt0R/8AALoLks0AAAAOAZ59akf/\n",
       "ACxZrGY8ROcAAAAnQZpiSahBbJlMCEf//eEABRpCxgAkNQPwlCZtrfErXfHYc5EV+DZgAAAAHEGe\n",
       "gEUVLCP/AEeKg0Yz+ACw3g/gh0nOK30zeEEAAAAMAZ6/dEf/AAC6C5LNAAAAEgGeoWpH/wAscxwA\n",
       "Hh55KpPCZwAAABJBmqNJqEFsmUwI//yEAAADAbMAAAfObW9vdgAAAGxtdmhkAAAAAAAAAAAAAAAA\n",
       "AAAD6AAAB9AAAQAAAQAAAAAAAAAAAAAAAAEAAAAAAAAAAAAAAAAAAAABAAAAAAAAAAAAAAAAAABA\n",
       "AAAAAAAAAAAAAAAAAAAAAAAAAAAAAAAAAAAAAAAAAgAABvh0cmFrAAAAXHRraGQAAAADAAAAAAAA\n",
       "AAAAAAABAAAAAAAAB9AAAAAAAAAAAAAAAAAAAAAAAAEAAAAAAAAAAAAAAAAAAAABAAAAAAAAAAAA\n",
       "AAAAAABAAAAAAbAAAAEgAAAAAAAkZWR0cwAAABxlbHN0AAAAAAAAAAEAAAfQAAACAAABAAAAAAZw\n",
       "bWRpYQAAACBtZGhkAAAAAAAAAAAAAAAAAAAyAAAAZABVxAAAAAAALWhkbHIAAAAAAAAAAHZpZGUA\n",
       "AAAAAAAAAAAAAABWaWRlb0hhbmRsZXIAAAAGG21pbmYAAAAUdm1oZAAAAAEAAAAAAAAAAAAAACRk\n",
       "aW5mAAAAHGRyZWYAAAAAAAAAAQAAAAx1cmwgAAAAAQAABdtzdGJsAAAAs3N0c2QAAAAAAAAAAQAA\n",
       "AKNhdmMxAAAAAAAAAAEAAAAAAAAAAAAAAAAAAAAAAbABIABIAAAASAAAAAAAAAABAAAAAAAAAAAA\n",
       "AAAAAAAAAAAAAAAAAAAAAAAAAAAAAAAAGP//AAAAMWF2Y0MBZAAe/+EAGGdkAB6s2UGwloQAAAMA\n",
       "BAAAAwGQPFi2WAEABmjr48siwAAAABx1dWlka2hA8l8kT8W6OaUbzwMj8wAAAAAAAAAYc3R0cwAA\n",
       "AAAAAAABAAAAZAAAAQAAAAAUc3RzcwAAAAAAAAABAAAAAQAAAyBjdHRzAAAAAAAAAGIAAAABAAAC\n",
       "AAAAAAEAAAUAAAAAAQAAAgAAAAABAAAAAAAAAAEAAAEAAAAAAQAABQAAAAABAAACAAAAAAEAAAAA\n",
       "AAAAAQAAAQAAAAABAAAFAAAAAAEAAAIAAAAAAQAAAAAAAAABAAABAAAAAAEAAAIAAAAAAQAABQAA\n",
       "AAABAAACAAAAAAEAAAAAAAAAAQAAAQAAAAABAAAFAAAAAAEAAAIAAAAAAQAAAAAAAAABAAABAAAA\n",
       "AAEAAAUAAAAAAQAAAgAAAAABAAAAAAAAAAEAAAEAAAAAAQAABQAAAAABAAACAAAAAAEAAAAAAAAA\n",
       "AQAAAQAAAAABAAAFAAAAAAEAAAIAAAAAAQAAAAAAAAABAAABAAAAAAEAAAUAAAAAAQAAAgAAAAAB\n",
       "AAAAAAAAAAEAAAEAAAAAAQAABQAAAAABAAACAAAAAAEAAAAAAAAAAQAAAQAAAAABAAAFAAAAAAEA\n",
       "AAIAAAAAAQAAAAAAAAABAAABAAAAAAMAAAIAAAAAAQAABQAAAAABAAACAAAAAAEAAAAAAAAAAQAA\n",
       "AQAAAAABAAACAAAAAAEAAAUAAAAAAQAAAgAAAAABAAAAAAAAAAEAAAEAAAAAAQAABQAAAAABAAAC\n",
       "AAAAAAEAAAAAAAAAAQAAAQAAAAABAAAFAAAAAAEAAAIAAAAAAQAAAAAAAAABAAABAAAAAAEAAAUA\n",
       "AAAAAQAAAgAAAAABAAAAAAAAAAEAAAEAAAAAAQAABQAAAAABAAACAAAAAAEAAAAAAAAAAQAAAQAA\n",
       "AAABAAAFAAAAAAEAAAIAAAAAAQAAAAAAAAABAAABAAAAAAEAAAUAAAAAAQAAAgAAAAABAAAAAAAA\n",
       "AAEAAAEAAAAAAQAAAgAAAAABAAAFAAAAAAEAAAIAAAAAAQAAAAAAAAABAAABAAAAAAEAAAUAAAAA\n",
       "AQAAAgAAAAABAAAAAAAAAAEAAAEAAAAAAQAABQAAAAABAAACAAAAAAEAAAAAAAAAAQAAAQAAAAAB\n",
       "AAAFAAAAAAEAAAIAAAAAAQAAAAAAAAABAAABAAAAAAEAAAIAAAAAHHN0c2MAAAAAAAAAAQAAAAEA\n",
       "AABkAAAAAQAAAaRzdHN6AAAAAAAAAAAAAABkAAA00QAAAuUAAABSAAAASwAAADYAAAFqAAAAQAAA\n",
       "ADYAAAAvAAABGwAAADQAAAApAAAAIwAAAGoAAABsAAAAIgAAACIAAAAhAAAAngAAADQAAAAiAAAA\n",
       "GwAAAG0AAAAlAAAAIQAAACEAAABxAAAAHgAAACEAAAAgAAAAcgAAACQAAAAmAAAAGAAAADkAAAAl\n",
       "AAAAGQAAABoAAABMAAAAHAAAAB4AAAAXAAAATAAAACgAAAAfAAAAFwAAAG8AAAAsAAAAJwAAAFkA\n",
       "AAAkAAAAHQAAABwAAABDAAAAUAAAACMAAAAVAAAAGQAAAE4AAAAiAAAAFwAAABEAAABFAAAAFwAA\n",
       "AA8AAAAPAAAAdAAAACcAAAAPAAAAGwAAAHEAAAAkAAAAFAAAABMAAAAtAAAAIQAAABMAAAASAAAA\n",
       "YQAAACMAAAAbAAAAFgAAAC4AAABwAAAAGwAAAB4AAAAiAAAAUQAAACIAAAAeAAAAFgAAACgAAAAX\n",
       "AAAAEAAAABIAAAArAAAAIAAAABAAAAAWAAAAFgAAABRzdGNvAAAAAAAAAAEAAAAsAAAAYnVkdGEA\n",
       "AABabWV0YQAAAAAAAAAhaGRscgAAAAAAAAAAbWRpcmFwcGwAAAAAAAAAAAAAAAAtaWxzdAAAACWp\n",
       "dG9vAAAAHWRhdGEAAAABAAAAAExhdmY1Ni40MC4xMDE=\n",
       "\">\n",
       "  Your browser does not support the video tag.\n",
       "</video>"
      ]
     },
     "metadata": {},
     "output_type": "display_data"
    }
   ],
   "source": [
    "try:\n",
    "    display_html(HTML(anim.to_html5_video()))\n",
    "except (RuntimeError, KeyError):\n",
    "    # In case the built-in renderers are unavailable, fall back to\n",
    "    # a custom one, that doesn't require external libraries\n",
    "    anim.save(None, writer=matplotlib_utils.SimpleMovieWriter(0.001))"
   ]
  },
  {
   "cell_type": "code",
   "execution_count": null,
   "metadata": {},
   "outputs": [],
   "source": []
  }
 ],
 "metadata": {
  "kernelspec": {
   "display_name": "Python 3",
   "language": "python",
   "name": "python3"
  },
  "language_info": {
   "codemirror_mode": {
    "name": "ipython",
    "version": 3
   },
   "file_extension": ".py",
   "mimetype": "text/x-python",
   "name": "python",
   "nbconvert_exporter": "python",
   "pygments_lexer": "ipython3",
   "version": "3.5.2"
  }
 },
 "nbformat": 4,
 "nbformat_minor": 1
}
